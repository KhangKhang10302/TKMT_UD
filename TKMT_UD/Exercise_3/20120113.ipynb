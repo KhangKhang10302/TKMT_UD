{
 "cells": [
  {
   "attachments": {},
   "cell_type": "markdown",
   "metadata": {},
   "source": [
    "## Student Info\n",
    "\n",
    "* Student name: Lê Nguyên Khang \n",
    "* Student ID: 20120113"
   ]
  },
  {
   "cell_type": "code",
   "execution_count": 1,
   "metadata": {},
   "outputs": [],
   "source": [
    "import numpy as np\n",
    "import random\n",
    "from matplotlib import pyplot as plt\n",
    "import math"
   ]
  },
  {
   "attachments": {},
   "cell_type": "markdown",
   "metadata": {},
   "source": [
    "### Câu 1. (2 điểm) Dùng phương pháp Monte Carlo, ước lượng các giá trị sau với sai số chuẩn không quá 0.01."
   ]
  },
  {
   "attachments": {},
   "cell_type": "markdown",
   "metadata": {},
   "source": [
    "#### a/"
   ]
  },
  {
   "attachments": {},
   "cell_type": "markdown",
   "metadata": {},
   "source": [
    "$I = \\displaystyle\\int_{-\\infty}^{\\infty} e^{-x^{2}}|cos(x)|dx = \\sqrt{\\pi}\\displaystyle\\int_{-\\infty}^{\\infty}|cos(x)|\\frac{1}{\\sqrt{\\pi}}e^{-x^{2}}dx = \\sqrt{\\pi}\\displaystyle\\int_{-\\infty}^{\\infty}|cos(x)|f_x(x)dx = \\sqrt{\\pi} E(|cos(X)|) ,\\ với\\  X \\sim N(0, \\frac{1}{2})$\n",
    "\n",
    "$I \\approx \\sqrt{\\pi} * J ,\\ với\\  J = \\frac{1}{n} \\displaystyle\\sum_{i=1}^{n}|cos(X_i)|,\\ X_1,...,X_n \\sim N(0, \\frac{1}{2})$"
   ]
  },
  {
   "cell_type": "code",
   "execution_count": 2,
   "metadata": {},
   "outputs": [
    {
     "name": "stdout",
     "output_type": "stream",
     "text": [
      "Uoc luong: 1.4014\n",
      "Sai so chuan: 0.0043\n"
     ]
    }
   ],
   "source": [
    "N = 10000\n",
    "X = np.random.normal(0, 1/np.sqrt(2), N)\n",
    "\n",
    "J_hat = np.mean(np.abs(np.cos(X)))\n",
    "I_hat = np.sqrt(np.pi)*J_hat\n",
    "print(f\"Uoc luong: {I_hat:.4f}\")    \n",
    "\n",
    "sigma = np.std(np.abs(np.cos(X)))\n",
    "sigma_J = sigma/np.sqrt(N)\n",
    "sigma_I = np.sqrt(np.pi)*sigma_J\n",
    "print(f\"Sai so chuan: {sigma_I:.4f}\")\n"
   ]
  },
  {
   "attachments": {},
   "cell_type": "markdown",
   "metadata": {},
   "source": [
    "#### b/"
   ]
  },
  {
   "attachments": {},
   "cell_type": "markdown",
   "metadata": {},
   "source": [
    "$I = \\displaystyle\\int_{-\\infty}^{\\infty}\\displaystyle\\int_{-\\infty}^{\\infty}e^{-\\frac{1}{2}(x^{2}+(y+1)^{2}-\\frac{x(y-1)}{10})}dxdy \n",
    "= \\displaystyle\\int_{-\\infty}^{\\infty}\\displaystyle\\int_{-\\infty}^{\\infty}e^{-\\frac{1}{2}(x^{2})}e^{-\\frac{1}{2}(y+1)^{2}}e^{\\frac{x(y-1)}{20}}dxdy $\n",
    "\n",
    "Ta đổi biến y' = y+1, ta được:\n",
    "\n",
    "$= \\displaystyle\\int_{-\\infty}^{\\infty}\\displaystyle\\int_{-\\infty}^{\\infty}e^{-\\frac{1}{2}x^{2}}e^{-\\frac{1}{2}y^{2}}e^{\\frac{x(y-2)}{20}}dxdy  \n",
    "= 2\\pi\\displaystyle\\int_{-\\infty}^{\\infty}\\displaystyle\\int_{-\\infty}^{\\infty}e^{\\frac{x(y-2)}{20}}f_x(x)dxf_y(y)dy $\n",
    "\n",
    "$= 2\\pi E(e^{\\frac{x(y-2)}{20}}) ,\\ với\\  X, Y \\sim N(0, 1)$"
   ]
  },
  {
   "cell_type": "code",
   "execution_count": 3,
   "metadata": {},
   "outputs": [
    {
     "name": "stdout",
     "output_type": "stream",
     "text": [
      "Uoc luong: 6.3240\n",
      "Sai so chuan: 0.0071\n"
     ]
    }
   ],
   "source": [
    "N = 10000\n",
    "X = np.random.normal(0, 1, N)\n",
    "Y = np.random.normal(0, 1, N)\n",
    "\n",
    "J_hat = np.mean(np.exp((X*(Y-2))/20))\n",
    "I_hat = 2*(np.pi)*J_hat\n",
    "print(f\"Uoc luong: {I_hat:.4f}\")\n",
    "\n",
    "sigma = np.std(np.exp(X*(Y-2)/20))\n",
    "sigma_J = sigma/np.sqrt(N)\n",
    "sigma_I = 2*np.pi*sigma_J\n",
    "print(f\"Sai so chuan: {sigma_I:.4f}\") "
   ]
  },
  {
   "attachments": {},
   "cell_type": "markdown",
   "metadata": {},
   "source": [
    "### Câu 2. (3 điểm) Chọn ngẫu nhiên 2 điểm 𝐴, 𝐵 trong “hình vuông đơn vị 𝐾 chiều” [0, 1]^𝐾. Gọi 𝐷 là khoảng cách giữa 2 điểm 𝐴, 𝐵 và 𝜇, 𝜎 lần lượt là kì vọng và độ lệch chuẩn của 𝐷. Dùng phương pháp Monte Carlo:"
   ]
  },
  {
   "attachments": {},
   "cell_type": "markdown",
   "metadata": {},
   "source": [
    "#### a/ Với 𝐾 = 2, đưa ra khoảng tin cậy 95% cho ước lượng của 𝜇, 𝜎."
   ]
  },
  {
   "cell_type": "code",
   "execution_count": 4,
   "metadata": {},
   "outputs": [
    {
     "name": "stdout",
     "output_type": "stream",
     "text": [
      "Ước lượng: 0.5216\n",
      "Sai số chuấn của 𝜇: 0.00025\n",
      "Khoảng tin cậy 95% của 𝜇: [0.5210528552636488, 0.5220591581518194]\n"
     ]
    }
   ],
   "source": [
    "n = 1000\n",
    "N = 1000\n",
    "uy = []\n",
    "\n",
    "for _ in range(N):\n",
    "    X1 = np.random.uniform(0, 1, n)\n",
    "    Y1 = np.random.uniform(0, 1, n)\n",
    "    X2 = np.random.uniform(0, 1, n)\n",
    "    Y2 = np.random.uniform(0, 1, n)\n",
    "\n",
    "    uy.append(np.mean(np.sqrt((X1 - X2)**2 + (Y1 - Y2)**2)))\n",
    "\n",
    "mean = np.mean(uy)\n",
    "sigma = np.std(uy)/np.sqrt(N)\n",
    "\n",
    "print(f\"Ước lượng: {mean:.4f}\")\n",
    "print(f\"Sai số chuấn của 𝜇: {sigma:.5f}\")\n",
    "print(f\"Khoảng tin cậy 95% của 𝜇: [{mean - 2 * sigma}, {mean + 2 * sigma}]\")"
   ]
  },
  {
   "cell_type": "code",
   "execution_count": 5,
   "metadata": {},
   "outputs": [
    {
     "name": "stdout",
     "output_type": "stream",
     "text": [
      "Ước lượng: 0.2476\n",
      "Sai số chuấn của 𝜎: 0.00015\n",
      "Khoảng tin cậy 95% của 𝜎: [0.24731561611394462, 0.2479041272587504]\n"
     ]
    }
   ],
   "source": [
    "n = 1000\n",
    "N = 1000\n",
    "sig = []\n",
    "\n",
    "for _ in range(N):\n",
    "    X1 = np.random.uniform(0, 1, n)\n",
    "    Y1 = np.random.uniform(0, 1, n)\n",
    "    X2 = np.random.uniform(0, 1, n)\n",
    "    Y2 = np.random.uniform(0, 1, n)\n",
    "\n",
    "    sig.append(np.std(np.sqrt((X1 - X2)**2 + (Y1 - Y2)**2)))\n",
    "\n",
    "mean = np.mean(sig)\n",
    "sigma = np.std(sig)/np.sqrt(N)\n",
    "\n",
    "print(f\"Ước lượng: {mean:.4f}\") \n",
    "print(f\"Sai số chuấn của 𝜎: {sigma:.5f}\")\n",
    "print(f\"Khoảng tin cậy 95% của 𝜎: [{mean - 2 * sigma}, {mean + 2 * sigma}]\")"
   ]
  },
  {
   "attachments": {},
   "cell_type": "markdown",
   "metadata": {},
   "source": [
    "#### b/ Với 𝐾 = 2, ước lượng 𝑃(𝐷 > 1.4) một cách hiệu quả. (Lưu ý: 𝑃(𝐷 > 1.4) rất nhỏ.)"
   ]
  },
  {
   "attachments": {},
   "cell_type": "markdown",
   "metadata": {},
   "source": [
    "##### Bước 1: Sinh tập các khoảng cách thỏa mảng:\n",
    "- Giả sử ta có hình vuống ABCD.\n",
    "- Ta nhận thấy việc sinh được khoảng cách > 1,4 là rất khó vì khoảng cách tối đa là $\\sqrt2$ ~ 1.41421\n",
    "- Ta nhận thấy khi 1 điểm nằm ở một đỉnh A thì điểm còn lại nằm ở đâu đó rất gần đỉnh C.\n",
    "- Ta xác định được một tam giác nhỏ tại đỉnh C chứa các điểm ấy. Ta tính được cạnh tam giác vuông cân đó = $1 - \\sqrt{1.4^2 - 1}$ ~ 0.021 . Nghĩa là nếu một điểm nằm ở đỉnh A thì điểm còn lại nằm đâu đó trong tam giác cân tại đỉnh C cạnh ~ 0.021\n",
    "\n",
    "##### Ý tưởng: \n",
    "- Ta sinh 1 điểm thuộc tam giác cân cạnh ~ 0.021 sao cho điểm đó cách đỉnh C > 1.4\n",
    "- Với mỗi điểm như thế ta xác định được một tam giác vuông tại đỉnh C chứa các điểm lợi cho việc tính khoảng cách. Tam giác này được xác định cho từng điểm được sinh tại tam giác cân ở A chứ không dùng tam giác cân tại C cạnh 0.021 vì như vậy lấy mẫu loại bỏ sẽ không hiệu quả.\n",
    "- Trong tam giác ở C ta xác định một điểm thỏa mãn khoảng cách > 1.4 so với điểm trong tam giác ở A. \n",
    "- Lặp lại 3 bước trên để sinh được tập khoảng cách thỏa mãn yêu cầu.\n",
    "- Hai đỉnh còn lại tương tự nên ta không cần chia hai TH mà chỉ cần làm một trường hợp gấp đôi số lần.\n",
    "\n",
    "-> Khi ấy tam giác tạo ở đỉnh C lấy mẫu loại bỏ rất hiệu quả, gần như lấy hết các điểm nên việc sinh tập khoảng cách trở nên rất hiệu quả."
   ]
  },
  {
   "cell_type": "code",
   "execution_count": 6,
   "metadata": {},
   "outputs": [],
   "source": [
    "def rand_distance(a, b, xx, yy):\n",
    "    while True: \n",
    "        x = np.random.uniform(0, 1)*a # Sinh tam giác theo kích thước cần \n",
    "        y = np.random.uniform(0, 1)*b\n",
    "        if (-x*(b/a) + b) > y:\n",
    "            x = a - x \n",
    "            y = b - y \n",
    "        \n",
    "        x = (1 - a) + x # Tịnh tiến tam giác đến đỉnh C\n",
    "        y = (1 - b) + y \n",
    "        d = np.sqrt((xx - x)**2 + (yy - y)**2) # Khoảng cách \n",
    "        if (d > 1.4):\n",
    "            return d"
   ]
  },
  {
   "cell_type": "code",
   "execution_count": 7,
   "metadata": {},
   "outputs": [
    {
     "name": "stdout",
     "output_type": "stream",
     "text": [
      "Max: 1.4126211121226537\n",
      "Min: 1.400000006771227\n"
     ]
    }
   ],
   "source": [
    "N = 10000\n",
    "count = 0\n",
    "arrx = []\n",
    "arry = []\n",
    "D = []\n",
    "while True:\n",
    "    while True:\n",
    "        x = np.random.uniform(0, 0.021) # Sinh x, y trong tam giác cân đỉnh A\n",
    "        y = np.random.uniform(0, 0.021)\n",
    "        if (-x + 0.021) < y: # Nếu điểm nằm nửa trên hình vuông thì lật xuống\n",
    "            x = (0.021 - x)\n",
    "            y = (0.021 - y)\n",
    "        if np.sqrt((1 - x)**2 + (1 - y)**2) > 1.4 : # Điểm thỏa kc đến C\n",
    "            break\n",
    "    count += 1\n",
    "\n",
    "    # Xác định khích thước tam giác tại đỉnh C.\n",
    "    a = 1 - (np.sqrt(1.4**2-(1 - x)**2) + y)\n",
    "    b = 1 - (np.sqrt(1.4**2-(1 - y)**2) + x)\n",
    "    D.append(rand_distance(a, b, x, y)) \n",
    "    if count >= N:\n",
    "        break\n",
    "\n",
    "print('Max:', max(D))\n",
    "print('Min:', min(D))\n"
   ]
  },
  {
   "attachments": {},
   "cell_type": "markdown",
   "metadata": {},
   "source": [
    "##### Bước 2: Ước lượng 𝑃(𝐷 > 1.4) một cách hiệu quả:"
   ]
  },
  {
   "cell_type": "code",
   "execution_count": 8,
   "metadata": {},
   "outputs": [
    {
     "name": "stdout",
     "output_type": "stream",
     "text": [
      "Uoc luong: 1.4016\n",
      "Sai so chuan: 0.00001776\n"
     ]
    }
   ],
   "source": [
    "I_hat = np.mean(D)\n",
    "print(f\"Uoc luong: {I_hat:.4f}\")    \n",
    "\n",
    "sigma = np.std(D)\n",
    "sigma_I = sigma/np.sqrt(N)\n",
    "print(f\"Sai so chuan: {sigma_I:.8f}\")\n"
   ]
  },
  {
   "attachments": {},
   "cell_type": "markdown",
   "metadata": {},
   "source": [
    "#### c/ Khảo sát 𝜇, 𝜎 và phân phối của 𝐷 theo 𝐾 = 1,2, … ,10. Nhận xét"
   ]
  },
  {
   "cell_type": "code",
   "execution_count": 9,
   "metadata": {},
   "outputs": [],
   "source": [
    "def distance_K(k):\n",
    "    n = 10000\n",
    "    d1 = [[] for i in range(1, k+1)]\n",
    "    d2 = [[] for i in range(1, k+1)]\n",
    "    kc = 0\n",
    "    for i in range(k):\n",
    "        d1[i] = np.random.uniform(0, 1, n)\n",
    "        d2[i] = np.random.uniform(0, 1, n)\n",
    "\n",
    "    for i in range(k):\n",
    "        kc += (d1[i] - d2[i])**2\n",
    "        \n",
    "    return np.sqrt(kc)"
   ]
  },
  {
   "cell_type": "code",
   "execution_count": 10,
   "metadata": {},
   "outputs": [
    {
     "name": "stdout",
     "output_type": "stream",
     "text": [
      "k = 1 Ước lượng 𝜎 và 𝜇: 0.2357, 0.3332\n",
      "-----\n",
      "k = 2 Ước lượng 𝜎 và 𝜇: 0.2479, 0.5214\n",
      "-----\n",
      "k = 3 Ước lượng 𝜎 và 𝜇: 0.2492, 0.6618\n",
      "-----\n",
      "k = 4 Ước lượng 𝜎 và 𝜇: 0.2488, 0.7777\n",
      "-----\n",
      "k = 5 Ước lượng 𝜎 và 𝜇: 0.2480, 0.8785\n",
      "-----\n",
      "k = 6 Ước lượng 𝜎 và 𝜇: 0.2473, 0.9690\n",
      "-----\n",
      "k = 7 Ước lượng 𝜎 và 𝜇: 0.2465, 1.0515\n",
      "-----\n",
      "k = 8 Ước lượng 𝜎 và 𝜇: 0.2460, 1.1282\n",
      "-----\n",
      "k = 9 Ước lượng 𝜎 và 𝜇: 0.2457, 1.1998\n",
      "-----\n",
      "k = 10 Ước lượng 𝜎 và 𝜇: 0.2453, 1.2674\n",
      "-----\n"
     ]
    },
    {
     "data": {
      "image/png": "[encoded data removed]",
      "text/plain": [
       "<Figure size 1800x700 with 10 Axes>"
      ]
     },
     "metadata": {},
     "output_type": "display_data"
    }
   ],
   "source": [
    "fg, ax = plt.subplots(2, 5, figsize=(18, 7))\n",
    "\n",
    "ii, jj = 0, 0\n",
    "for k in range(1, 11):\n",
    "    N = 1000\n",
    "    sig, uy, d = [], [], []\n",
    "    for i in range(N):\n",
    "        d = (distance_K(k))\n",
    "        sig.append(np.std(d))\n",
    "        uy.append(np.mean(d))\n",
    "\n",
    "    mean_sig = np.mean(sig)\n",
    "    mean_uy = np.mean(uy)\n",
    "\n",
    "    print('k =', k, f\"Ước lượng 𝜎 và 𝜇: {mean_sig:.4f}, {mean_uy:.4f}\") \n",
    "    print('-----')\n",
    "\n",
    "    ax[ii, jj].hist(d, bins=50, density=True)\n",
    "    ax[ii, jj].set_title('k='+str(k))\n",
    "    jj += 1\n",
    "    if jj == 5:\n",
    "        jj = 0 \n",
    "        ii += 1\n",
    "\n",
    "plt.show()"
   ]
  },
  {
   "attachments": {},
   "cell_type": "markdown",
   "metadata": {},
   "source": [
    "`Nhận xét`: \n",
    "- Giá trị sigma(𝜎) với k từ 1 đến 10 gần như tiến về bằng nhau. \n",
    "- Giá trị uy(𝜇) tăng dần khi k tăng từ 1 đến 10.  \n",
    "- Phân phối của D chuyển dần về dạng của phân phối chuẩn khi k tăng từ 1 đến 10."
   ]
  },
  {
   "attachments": {},
   "cell_type": "markdown",
   "metadata": {},
   "source": [
    "### Câu 3. (2 điểm) Cho 𝑈 ~ 𝒰(0, 1), dùng phương pháp Monte Carlo, tìm khoảng tin cậy 95% cho"
   ]
  },
  {
   "attachments": {},
   "cell_type": "markdown",
   "metadata": {},
   "source": [
    "#### a/ $Cor(𝑈, 𝑒^{𝑈})$. "
   ]
  },
  {
   "cell_type": "code",
   "execution_count": 11,
   "metadata": {},
   "outputs": [
    {
     "name": "stdout",
     "output_type": "stream",
     "text": [
      "Sai số chuấn: 0.0000075\n",
      "Khoảng tin cậy 95%: [0.9918272421019001, 0.9918572932191587]\n"
     ]
    }
   ],
   "source": [
    "n = 1000\n",
    "N = 1000\n",
    "cor_a = []\n",
    "for _ in range(N):\n",
    "    X = np.random.uniform(0, 1, n)\n",
    "    cor_a.append(np.corrcoef(X, np.exp(X))[0, 1])\n",
    "\n",
    "mean = np.mean(cor_a)\n",
    "sigma = np.std(cor_a)/np.sqrt(N)\n",
    "print(f\"Sai số chuấn: {sigma:.7f}\")\n",
    "print(f\"Khoảng tin cậy 95%: [{mean - 2 * sigma}, {mean + 2 * sigma}]\")"
   ]
  },
  {
   "attachments": {},
   "cell_type": "markdown",
   "metadata": {},
   "source": [
    "#### b/ $Cor(𝑈, \\sqrt{1 − U^2})$."
   ]
  },
  {
   "cell_type": "code",
   "execution_count": 12,
   "metadata": {},
   "outputs": [
    {
     "name": "stdout",
     "output_type": "stream",
     "text": [
      "Sai số chuấn: 0.0000860\n",
      "Khoảng tin cậy 95%: [-0.9217379122977668, -0.9213938365108453]\n"
     ]
    }
   ],
   "source": [
    "n = 1000\n",
    "N = 1000\n",
    "cor_b = []\n",
    "for _ in range(N):\n",
    "    X = np.random.uniform(0, 1, n)\n",
    "    cor_b.append(np.corrcoef(X, np.sqrt(1 - X**2))[0, 1])\n",
    "\n",
    "mean = np.mean(cor_b)\n",
    "sigma = np.std(cor_b)/np.sqrt(N)\n",
    "\n",
    "print(f\"Sai số chuấn: {sigma:.7f}\")\n",
    "print(f\"Khoảng tin cậy 95%: [{mean - 2 * sigma}, {mean + 2 * sigma}]\")"
   ]
  },
  {
   "attachments": {},
   "cell_type": "markdown",
   "metadata": {},
   "source": [
    "### Câu 4. (2 điểm) Dùng 2 phương pháp giảm phương sai khác nhau để ước lượng giá trị 𝐼 ở Câu (1.a). Tính (hoặc ước lượng) tỉ lệ giảm phương sai so với phương pháp ở Câu (1.a).\n"
   ]
  },
  {
   "attachments": {},
   "cell_type": "markdown",
   "metadata": {},
   "source": [
    "#### Phương sai ở câu 1a"
   ]
  },
  {
   "cell_type": "code",
   "execution_count": 13,
   "metadata": {},
   "outputs": [
    {
     "name": "stdout",
     "output_type": "stream",
     "text": [
      "Uoc luong: 1.4030\n",
      "Phuong sai: 0.1021\n"
     ]
    }
   ],
   "source": [
    "# sigma^2 = 1/2\n",
    "N = 10000\n",
    "X = np.random.normal(0, 1/np.sqrt(2), N)\n",
    "J_hat = np.mean(np.abs(np.cos(X)))\n",
    "I_hat = np.sqrt(np.pi)*J_hat\n",
    "print(f\"Uoc luong: {I_hat:.4f}\")\n",
    "\n",
    "var_1a = np.sqrt(np.pi)*np.var(np.abs(np.cos(X)))\n",
    "print(f\"Phuong sai: {var_1a:.4f}\")"
   ]
  },
  {
   "attachments": {},
   "cell_type": "markdown",
   "metadata": {},
   "source": [
    "#### Phương pháp 1: Lấy mẫu quan trọng \n",
    "- Ta ước lượng tích phân theo các phân phối chuẩn thông dụng N(0, 1), N(0, 5)"
   ]
  },
  {
   "attachments": {},
   "cell_type": "markdown",
   "metadata": {},
   "source": [
    "##### Cách 1: Sử dụng mẫu theo phân phối chuẩn N(0, 1)\n",
    "$I = \\displaystyle\\int_{-\\infty}^{\\infty} e^{-x^{2}}|cos(x)|dx \n",
    "= \\sqrt{2\\pi}\\displaystyle\\int_{-\\infty}^{\\infty}\\frac{1}{\\sqrt{2\\pi}}e^{\\frac{-x^{2}}{2}}\\frac{|cos(x)|}{e^{\\frac{x^{2}}{2}}}dx \n",
    "= \\sqrt{2\\pi}\\displaystyle\\int_{-\\infty}^{\\infty}\\frac{|cos(x)|}{e^{\\frac{x^{2}}{2}}}f_x(x)dx \n",
    "= \\sqrt{2\\pi} E(\\frac{|cos(x)|}{e^{\\frac{x^{2}}{2}}}) ,\\ với\\  X \\sim N(0, 1)$\n",
    "\n",
    "$I \\approx \\sqrt{2\\pi} * J ,\\ với\\  J = \\frac{1}{n} \\displaystyle\\sum_{i=1}^{n}\\frac{|cos(X_i)|}{e^{\\frac{X_i^{2}}{2}}},\\ X_1,...,X_n \\sim N(0, 1)$"
   ]
  },
  {
   "cell_type": "code",
   "execution_count": 14,
   "metadata": {},
   "outputs": [
    {
     "name": "stdout",
     "output_type": "stream",
     "text": [
      "Uoc luong: 1.3933\n",
      "Phuong sai: 0.3129\n",
      "Tỷ lệ phương sai so với câu 1a: 3.0651\n"
     ]
    }
   ],
   "source": [
    "# sigma^2 = 1\n",
    "N = 10000\n",
    "X = np.random.normal(0, 1, N)\n",
    "\n",
    "J_hat = np.mean(np.abs(np.cos(X))/np.exp(X**2/2))\n",
    "I_hat = np.sqrt(2*np.pi)*J_hat\n",
    "print(f\"Uoc luong: {I_hat:.4f}\")\n",
    "\n",
    "var_c1 = np.sqrt(2*np.pi)*np.var(np.abs(np.cos(X))/np.exp(X**2/2))\n",
    "print(f\"Phuong sai: {var_c1:.4f}\")\n",
    "print(f\"Tỷ lệ phương sai so với câu 1a: {var_c1/var_1a:.4f}\")"
   ]
  },
  {
   "attachments": {},
   "cell_type": "markdown",
   "metadata": {},
   "source": [
    "##### Cách 2: Sử dụng mẫu theo phân phối N(0, 5)\n",
    "$I = \\displaystyle\\int_{-\\infty}^{\\infty} e^{-x^{2}}|cos(x)|dx \n",
    "= \\sqrt{10\\pi}\\displaystyle\\int_{-\\infty}^{\\infty}\\frac{1}{\\sqrt{10\\pi}}e^{\\frac{-x^{2}}{10}}\\frac{|cos(x)|}{e^{\\frac{9x^{2}}{10}}}dx \n",
    "= \\sqrt{10\\pi}\\displaystyle\\int_{-\\infty}^{\\infty}\\frac{|cos(x)|}{e^{\\frac{9x^{2}}{10}}}f_x(x)dx \n",
    "= \\sqrt{10\\pi} E(\\frac{|cos(x)|}{e^{\\frac{9x^{2}}{10}}}) ,\\ với\\  X \\sim N(0, 1)$\n",
    "\n",
    "$I \\approx \\sqrt{10\\pi} * J ,\\ với\\  J = \\frac{1}{n} \\displaystyle\\sum_{i=1}^{n}\\frac{|cos(X_i)|}{e^{\\frac{9X_i^{2}}{10}}},\\ X_1,...,X_n \\sim N(0, 1)$"
   ]
  },
  {
   "cell_type": "code",
   "execution_count": 15,
   "metadata": {},
   "outputs": [
    {
     "name": "stdout",
     "output_type": "stream",
     "text": [
      "Uoc luong: 1.3885\n",
      "Phuong sai: 0.6692\n",
      "Tỷ lệ phương sai so với câu 1a: 6.5549\n"
     ]
    }
   ],
   "source": [
    "# sigma^2 = 5\n",
    "N = 10000\n",
    "X = np.random.normal(0, np.sqrt(5), N)\n",
    "\n",
    "J_hat = np.mean(np.abs(np.cos(X))/np.exp((X**2)*9/10))\n",
    "I_hat = np.sqrt(10*np.pi)*J_hat\n",
    "print(f\"Uoc luong: {I_hat:.4f}\")\n",
    "\n",
    "var_c2 = np.sqrt(10*np.pi)*np.var(np.abs(np.cos(X))/np.exp((X**2)*9/10))\n",
    "print(f\"Phuong sai: {var_c2:.4f}\")\n",
    "print(f\"Tỷ lệ phương sai so với câu 1a: {var_c2/var_1a:.4f}\")"
   ]
  },
  {
   "attachments": {},
   "cell_type": "markdown",
   "metadata": {},
   "source": [
    "#### Phương pháp 2: Biến đối nghịch\n",
    "- Sử dụng câu 1a nhưng chỉ sinh 1 nữa biến ngẫu nhiên X, nữa còn lại cho bằng -X."
   ]
  },
  {
   "cell_type": "code",
   "execution_count": 16,
   "metadata": {},
   "outputs": [
    {
     "name": "stdout",
     "output_type": "stream",
     "text": [
      "Uoc luong: 1.4062\n",
      "Phuong sai: 0.1030\n",
      "Tỷ lệ phương sai so với câu 1a: 1.0087\n"
     ]
    }
   ],
   "source": [
    "N = 5000\n",
    "X = np.random.normal(0, 1/np.sqrt(2), N)\n",
    "XX = np.concatenate((X, -X))\n",
    "J_hat = np.mean(np.abs(np.cos(XX)))\n",
    "I_hat = np.sqrt(np.pi)*J_hat\n",
    "print(f\"Uoc luong: {I_hat:.4f}\")\n",
    "\n",
    "var_c3 = np.sqrt(np.pi)*np.var(np.abs(np.cos(X)))\n",
    "print(f\"Phuong sai: {var_c3:.4f}\")\n",
    "print(f\"Tỷ lệ phương sai so với câu 1a: {var_c3/var_1a:.4f}\")"
   ]
  },
  {
   "attachments": {},
   "cell_type": "markdown",
   "metadata": {},
   "source": [
    "### Câu 5. (1 điểm) Thiết kế thuật toán hiệu quả để sinh điểm ngẫu nhiên trong hình sau"
   ]
  },
  {
   "attachments": {},
   "cell_type": "markdown",
   "metadata": {},
   "source": [
    "#### Cách giải: \n",
    "- Với mỗi cạnh của thập giác và đường tròn ta được một hình viên phân. \n",
    "- Ta lấy mẫu loại bỏ tạo hình viên phân bằng cách gieo các điểm trong hình chữ nhật bao 1 hình viên phân.\n",
    "- Khi ấy ta dùng hai biến ngẫu nhiên (x, y) để lấy mẫu loại bỏ. Với x ta sinh theo chiều dài hình chữ nhật, với chữ số phần thập phân thứ 1 của biến y dùng để xác định nó nằm ở hình viên phân thứ mấy, biến y nhưng bỏ đi chữ số phần thập phân thứ nhất dùng để sinh theo chiều rộng hình chữ nhật.\n",
    "\n",
    "-> Độ hiệu quả: dùng 2 biến ngẫu nhiên để lấy mẫu loại bỏ trong HCN bao hình viên phân và đồng thời chia các điểm vào hình viên phân."
   ]
  },
  {
   "cell_type": "code",
   "execution_count": 17,
   "metadata": {},
   "outputs": [
    {
     "data": {
      "text/plain": [
       "0.6180339887498948"
      ]
     },
     "execution_count": 17,
     "metadata": {},
     "output_type": "execute_result"
    }
   ],
   "source": [
    "# Tính chiều dài HCN\n",
    "def tinh_d():\n",
    "    hs = np.pi/180\n",
    "    x = 2*(np.sin(18*hs))\n",
    "    return x\n",
    "\n",
    "tinh_d()"
   ]
  },
  {
   "cell_type": "code",
   "execution_count": 18,
   "metadata": {},
   "outputs": [
    {
     "data": {
      "text/plain": [
       "0.04894348370484647"
      ]
     },
     "execution_count": 18,
     "metadata": {},
     "output_type": "execute_result"
    }
   ],
   "source": [
    "# Tính chiều rộng HCN\n",
    "def tinh_r():\n",
    "    x = tinh_d()/2\n",
    "    yy = np.sqrt(1 - x**2)\n",
    "    return 1 - yy\n",
    "tinh_r()"
   ]
  },
  {
   "cell_type": "code",
   "execution_count": 19,
   "metadata": {},
   "outputs": [],
   "source": [
    "def cau_5():\n",
    "    x = tinh_d()\n",
    "    y = tinh_r()\n",
    "    \n",
    "    while(True):\n",
    "        X = np.random.rand()*x - x/2\n",
    "        Y_r = np.random.rand()\n",
    "        \n",
    "        # lấy chữ số phần thập phân thứ nhất của biến Y\n",
    "        choose_edge = math.floor(Y_r*10) + 1\n",
    "\n",
    "        Y_r = Y_r*10 - (choose_edge - 1)\n",
    "        Y = Y_r*y + (1-y)\n",
    "        if Y*Y <= 1 - X*X:\n",
    "            break\n",
    "\n",
    "    r = np.sqrt(X*X + Y*Y)\n",
    "    theta = np.arccos(X/np.sqrt(X**2+Y**2)) + choose_edge*np.pi/5\n",
    "\n",
    "    return  r*math.cos(theta), r*math.sin(theta)"
   ]
  },
  {
   "cell_type": "code",
   "execution_count": 20,
   "metadata": {},
   "outputs": [
    {
     "data": {
      "image/png": "[encoded data removed]",
      "text/plain": [
       "<Figure size 500x500 with 1 Axes>"
      ]
     },
     "metadata": {},
     "output_type": "display_data"
    }
   ],
   "source": [
    "N = 100000\n",
    "YY = []\n",
    "XX = []\n",
    "for i in range(N):\n",
    "    tmp = cau_5()\n",
    "    XX.append(tmp[0])\n",
    "    YY.append(tmp[1])\n",
    "\n",
    "plt.figure(figsize=(5, 5))\n",
    "plt.scatter(XX, YY, s = 1)\n",
    "plt.axis(\"equal\")\n",
    "plt.show()"
   ]
  },
  {
   "cell_type": "code",
   "execution_count": null,
   "metadata": {},
   "outputs": [],
   "source": []
  }
 ],
 "metadata": {
  "kernelspec": {
   "display_name": "Python 3",
   "language": "python",
   "name": "python3"
  },
  "language_info": {
   "codemirror_mode": {
    "name": "ipython",
    "version": 3
   },
   "file_extension": ".py",
   "mimetype": "text/x-python",
   "name": "python",
   "nbconvert_exporter": "python",
   "pygments_lexer": "ipython3",
   "version": "3.10.7"
  },
  "orig_nbformat": 4
 },
 "nbformat": 4,
 "nbformat_minor": 2
}
