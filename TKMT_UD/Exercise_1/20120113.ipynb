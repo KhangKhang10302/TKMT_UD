{
 "cells": [
  {
   "attachments": {},
   "cell_type": "markdown",
   "metadata": {},
   "source": [
    "# MỤC LỤC\n",
    "**Câu 1 (2 điểm)**\n",
    "* a/ Lập luận lý thuyết & Mô phỏng.\n",
    "* b/ Lập luận lý thuyết & Mô phỏng.\n",
    "\n",
    "**Câu 3 (3 điểm)**\n",
    "* a/ Lập luận lý thuyết & Mô phỏng.\n",
    "* b/ Lập luận lý thuyết & Mô phỏng.\n",
    "* c/ Lập luận lý thuyết & Mô phỏng.\n",
    "* d/ Mô phỏng.\n",
    "\n",
    "**Câu 4 (5 điểm)**\n",
    "* a/ Lập luận lý thuyết & Mô phỏng.\n",
    "* b/ Lập luận lý thuyết & Mô phỏng.\n",
    "* c/ Mô phỏng.\n",
    "* d/ Lập luận lý thuyết & Mô phỏng.\n",
    "* e/ Lập luận lý thuyết & Mô phỏng.\n",
    "* f/ Lập luận lý thuyết & Mô phỏng.\n",
    "* g/ Lập luận lý thuyết & Mô phỏng.\n",
    "* h/ Lập luận lý thuyết & Mô phỏng.\n"
   ]
  },
  {
   "attachments": {},
   "cell_type": "markdown",
   "metadata": {},
   "source": [
    "# Câu 1 "
   ]
  },
  {
   "cell_type": "code",
   "execution_count": 1,
   "metadata": {},
   "outputs": [],
   "source": [
    "# import thư viện cần thiết\n",
    "import numpy as np\n",
    "import random as rd"
   ]
  },
  {
   "cell_type": "code",
   "execution_count": 2,
   "metadata": {},
   "outputs": [],
   "source": [
    "def randpercent(): # random phần trăm\n",
    "    rand = rd.uniform(0, 1)\n",
    "    return rand"
   ]
  },
  {
   "attachments": {},
   "cell_type": "markdown",
   "metadata": {},
   "source": [
    "**a/ Biết router R1 bị hỏng, tính xác suất A, B liên lạc được.**"
   ]
  },
  {
   "attachments": {},
   "cell_type": "markdown",
   "metadata": {},
   "source": [
    "**TH: R2, R3 hoạt động, R4 hỏng:**\n",
    "* Xác suất: (1-0.15)*(1-0.2)*0.25 = 0.17        (1)\n",
    "\n",
    "**TH: R2, R4 hoạt động, R3 hỏng:**\n",
    "* Xác suất: (1-0.15)*(1-0.25)*0.2 = 0.1275      (2)\n",
    "\n",
    "**TH: R2, R3, R4 hoạt động:**\n",
    "* Xác suất: (1-0.15)*(1-0.2) *(1-0.25) = 0.51   (3)\n",
    "\n",
    "**R1 hỏng, xác suất A B liên lạc được là:** \n",
    "* (1) + (2) + (3) = 0.17 + 0.1275 + 0.51 = 0.8075"
   ]
  },
  {
   "cell_type": "code",
   "execution_count": 3,
   "metadata": {},
   "outputs": [
    {
     "name": "stdout",
     "output_type": "stream",
     "text": [
      "0.80764\n"
     ]
    }
   ],
   "source": [
    "# Mô phỏng\n",
    "def check_connection_a(n):\n",
    "    cc = 0\n",
    "    for _ in range(n):\n",
    "        R = np.array([0, 0, 0, 0, 0])\n",
    "        for i in range(1, 5):\n",
    "            percent = randpercent()\n",
    "            if percent > pr_fail[i]:\n",
    "                R[i] = 1\n",
    "        if ((R[2] == R[3] == 1) or (R[2] == R[4] == 1)):\n",
    "            cc += 1\n",
    "\n",
    "    return cc\n",
    "\n",
    "pr_fail = np.array([0, 1, 0.15, 0.20, 0.25]) # cho xác suất hỏng cùa R[1] = 1\n",
    "n = 100000\n",
    "print(check_connection_a(n)/n)"
   ]
  },
  {
   "attachments": {},
   "cell_type": "markdown",
   "metadata": {},
   "source": [
    "**b/ Tính xác suất A, B liên lạc được**"
   ]
  },
  {
   "attachments": {},
   "cell_type": "markdown",
   "metadata": {},
   "source": [
    "**TH R1 hỏng, kế thừa kết quả câu a:**\n",
    "* Xác suất: 0.1*0.8075 = 0.08075    (1)\n",
    "\n",
    "**TH R1 hoạt động, chắc chắn liên lạc được:**\n",
    "* Xác suất: 1-0.1 = 0.9             (2)\n",
    "\n",
    "**Xác suất A, B liên lạc được là:**\n",
    "* (1) + (2) = 0.08075 + 0.9 = 0.98075"
   ]
  },
  {
   "cell_type": "code",
   "execution_count": 4,
   "metadata": {},
   "outputs": [
    {
     "data": {
      "text/plain": [
       "0.98103"
      ]
     },
     "execution_count": 4,
     "metadata": {},
     "output_type": "execute_result"
    }
   ],
   "source": [
    "# Mô phỏng\n",
    "\n",
    "def check_connection_b(n):\n",
    "    cc = 0\n",
    "    for _ in range(n):\n",
    "        R = np.array([0, 0, 0, 0, 0])\n",
    "        for i in range(1, 5):\n",
    "            percent = randpercent()\n",
    "            if percent > pr_fail[i]:\n",
    "                R[i] = 1\n",
    "        if ((R[2] == R[3] == 1) or (R[2] == R[4] == 1) or (R[1] == 1)):\n",
    "            cc += 1\n",
    "\n",
    "    return cc\n",
    "\n",
    "pr_fail = np.array([0, 0.10, 0.15, 0.20, 0.25]) # Xác suất bị hỏng các R\n",
    "n = 100000\n",
    "check_connection_b(n)/n"
   ]
  },
  {
   "attachments": {},
   "cell_type": "markdown",
   "metadata": {},
   "source": [
    "# Câu 2"
   ]
  },
  {
   "cell_type": "code",
   "execution_count": 5,
   "metadata": {},
   "outputs": [],
   "source": [
    "# import thư viện cần thiết\n",
    "import numpy as np\n",
    "import random as rd"
   ]
  },
  {
   "cell_type": "code",
   "execution_count": 6,
   "metadata": {},
   "outputs": [],
   "source": [
    "def randpercent():  # random phần trăm\n",
    "    rand = rd.uniform(0, 1)\n",
    "    return rand"
   ]
  },
  {
   "cell_type": "code",
   "execution_count": 7,
   "metadata": {},
   "outputs": [],
   "source": [
    "def plus_one(x): # Cộng thêm 1 cho x\n",
    "    x += 1\n",
    "    return x"
   ]
  },
  {
   "attachments": {},
   "cell_type": "markdown",
   "metadata": {},
   "source": [
    "**a/ Giả sử con chuột đang ở Phòng 1, tính xác suất con chuột vẫn ở Phòng 1 sau đó 5 ngày.**"
   ]
  },
  {
   "attachments": {},
   "cell_type": "markdown",
   "metadata": {},
   "source": [
    "* Ta lập ma trận xác suất chuyển phòng mỗi ngày của chuột\n",
    "$$ P = \n",
    "\\begin{pmatrix}\n",
    "1/2 & 1/4 & 0 & 0 \\\\\n",
    "1/2 & 1/4 & 1/3 & 1/3 \\\\\n",
    "0 & 1/4 & 1/3 & 1/3 \\\\\n",
    "0 & 1/4 & 1/3 & 1/3\n",
    "\\end{pmatrix} $$\n",
    "* Gọi Xt là xích markov chỉ phòng chuột ở ngày t.\n",
    "* ycbt <=> $P$($X_5$ = 1| $X_0$ = 1) = $(P^{5})_{1,1}$\n",
    "* \n",
    "$$P^{5} = \n",
    "\\begin{pmatrix}\n",
    "0.20334201 & 0.1714048 & 0.15128279 & 0.15128279 \\\\\n",
    "0.34280961 & 0.3345028 & 0.32939493 & 0.32939493 \\\\\n",
    "0.22692419 & 0.2470462 & 0.25966114 & 0.25966114 \\\\\n",
    "0.22692419 & 0.2470462 & 0.25966114 & 0.25966114\n",
    "\\end{pmatrix}\n",
    "$$\n",
    "* $(P^{5})_{1,1}$ = 0.20334201"
   ]
  },
  {
   "cell_type": "code",
   "execution_count": 8,
   "metadata": {},
   "outputs": [
    {
     "name": "stdout",
     "output_type": "stream",
     "text": [
      "[[0.20334201 0.1714048  0.15128279 0.15128279]\n",
      " [0.34280961 0.3345028  0.32939493 0.32939493]\n",
      " [0.22692419 0.2470462  0.25966114 0.25966114]\n",
      " [0.22692419 0.2470462  0.25966114 0.25966114]]\n"
     ]
    }
   ],
   "source": [
    "# Tính P^5 cho cách giải lý thuyết\n",
    "def matmultiply(a, b):\n",
    "    res = np.zeros(a.shape)\n",
    "    size = a.shape[0]\n",
    "    for i in range(size):\n",
    "        for j in range(size):\n",
    "            for k in range(size):\n",
    "                res[i][j] += a[i][k] * b[k][j]\n",
    "\n",
    "    return res\n",
    "\n",
    "p = np.array([[1/2, 1/4, 0, 0],\n",
    "            [1/2, 1/4, 1/3, 1/3],\n",
    "            [0, 1/4, 1/3, 1/3],\n",
    "            [0, 1/4, 1/3, 1/3]] )\n",
    "\n",
    "p_2 = matmultiply(p, p)\n",
    "p_3 = matmultiply(p_2,p)\n",
    "p_5 = matmultiply(p_3,p_2)\n",
    "print(p_5)"
   ]
  },
  {
   "cell_type": "code",
   "execution_count": 9,
   "metadata": {},
   "outputs": [
    {
     "name": "stdout",
     "output_type": "stream",
     "text": [
      "0.20222\n"
     ]
    }
   ],
   "source": [
    "# Mô phỏng\n",
    "quantity = [0, 2, 4, 3, 3] # lưu số lượng lựa chọn di chuyển phòng thứ i\n",
    "index = np.array([[0, 0, 0, 0, 0],\n",
    "                [0, 1, 2, 0, 0],\n",
    "                [0, 1, 2, 3, 4],\n",
    "                [0, 2, 3, 4, 0],\n",
    "                [0, 2, 3, 4, 0]]) # Ma trận lưu các phòng có thể duy chuyển tại mỗi phòng\n",
    "\n",
    "sl = 0\n",
    "n = 100000 # lần lặp\n",
    "for _ in range(n):\n",
    "    start = 1\n",
    "    for i in range(5):\n",
    "        percent = randpercent()\n",
    "        for j in range(1, quantity[start]+1):\n",
    "            if (percent <= j*(1/quantity[start])):\n",
    "                start = index[start][j]\n",
    "                break\n",
    "    if start == 1:\n",
    "        sl += 1\n",
    "\n",
    "print(sl/n)"
   ]
  },
  {
   "attachments": {},
   "cell_type": "markdown",
   "metadata": {},
   "source": [
    "**b/ Sau rất nhiều ngày, xác suất con chuột ở trong mỗi phòng là bao nhiêu?**"
   ]
  },
  {
   "attachments": {},
   "cell_type": "markdown",
   "metadata": {},
   "source": [
    "* Gọi vector \n",
    "$\\pi = \n",
    "\\begin{pmatrix}\n",
    "a \\\\\n",
    "b \\\\\n",
    "c \\\\\n",
    "d\n",
    "\\end{pmatrix}\n",
    "$ là xác xuất chuột ở mỗi phòng sau nhiều ngày\n",
    "* ycbt <=> $P\\pi = \\pi$ <=> ($P$ - $I_5$)$\\pi$ = 0\n",
    "$$ \n",
    "P - I_5 = \n",
    "\\begin{pmatrix}\n",
    "-1/2 & 1/4 & 0 & 0 \\\\\n",
    "1/2 & -3/4 & 1/3 & 1/3 \\\\\n",
    "0 & 1/4 & -2/3 & 1/3 \\\\\n",
    "0 & 1/4 & 1/3 & -2/3\n",
    "\\end{pmatrix} $$\n",
    "$\\longrightarrow$\n",
    "$\\begin{pmatrix}\n",
    "-1/2 & 1/4 & 0 & 0 \\\\\n",
    "1/2 & -3/4 & 1/3 & 1/3 \\\\\n",
    "0 & 1/4 & -2/3 & 1/3 \\\\\n",
    "0 & 1/4 & 1/3 & -2/3\n",
    "\\end{pmatrix}$\n",
    "\n",
    "$d_1 + d_2, 2d_3 + d_2, 2d_4 + d_2 + d_3\\longrightarrow$\n",
    "$\\begin{pmatrix}\n",
    "-1/2 & 1/4 & 0 & 0 \\\\\n",
    "0 & -1/2 & 1/3 & 1/3 \\\\\n",
    "0 & 0 & -1 & 1 \\\\\n",
    "0 & 0 & 0 & 0\n",
    "\\end{pmatrix}$\n",
    "$\\longrightarrow$\n",
    "$\n",
    "\\begin{cases}\n",
    "a &= 2\\alpha/3 \\\\\n",
    "b &= 4\\alpha/3 \\\\\n",
    "c &= \\alpha \\\\\n",
    "d &= \\alpha\n",
    "\\end{cases}\n",
    "$\n",
    "* Mà a + b + c + d = 1 -> $\\alpha$ = 1/4\n",
    "\n",
    "$\\longrightarrow$\n",
    "$\n",
    "\\begin{cases}\n",
    "a &= 1/6 \\\\\n",
    "b &= 1/3 \\\\\n",
    "c &= 1/4 \\\\\n",
    "d &= 1/4\n",
    "\\end{cases}\n",
    "$\n",
    "* Vậy xác xuất chuột ở phòng 1, 2, 3, 4 lần lượt là: 1/6, 1/3, 1/4, 1/4"
   ]
  },
  {
   "cell_type": "code",
   "execution_count": 10,
   "metadata": {},
   "outputs": [
    {
     "name": "stdout",
     "output_type": "stream",
     "text": [
      "0.165 0.3365 0.2456 0.2529\n"
     ]
    }
   ],
   "source": [
    "# Mô phỏng\n",
    "def plus_one(x):\n",
    "    x += 1\n",
    "    return x\n",
    "\n",
    "quantity = [0, 2, 4, 3, 3] #\n",
    "index = np.array([[0, 0, 0, 0, 0],\n",
    "                [0, 1, 2, 0, 0],\n",
    "                [0, 1, 2, 3, 4],\n",
    "                [0, 2, 3, 4, 0],\n",
    "                [0, 2, 3, 4, 0]] )#\n",
    "\n",
    "sl = np.array([0, 0, 0, 0, 0]) # Mảng để lưu số lượng chuột kết thúc ở phòng thứ i \n",
    "n = 10000 # số lần lặp \n",
    "\n",
    "for _ in range(n):\n",
    "    start = rd.randint(1, 4) # random phòng thả chuột\n",
    "    day = rd.randint(200, 300) # random số ngày \n",
    "    for i in range(day):\n",
    "        percent = randpercent()\n",
    "        for j in range(1, quantity[start]+1):\n",
    "            if (percent <= j*(1/quantity[start])):\n",
    "                start = index[start][j]\n",
    "                break\n",
    "    sl[start] = plus_one(sl[start])\n",
    "\n",
    "print(sl[1]/n, sl[2]/n, sl[3]/n, sl[4]/n)"
   ]
  },
  {
   "attachments": {},
   "cell_type": "markdown",
   "metadata": {},
   "source": [
    "**c/ Giả sử con chuột ở mỗi phòng không quá 3 ngày liên tiếp (nghĩa là nếu con chuột ở một phòng nào đó đã 3 ngày liên tiếp thì ngày hôm sau sẽ chuyển đến phòng bên với xác suất đều mà không ở lại phòng đó nữa), làm lại Câu (a).**"
   ]
  },
  {
   "attachments": {},
   "cell_type": "markdown",
   "metadata": {},
   "source": [
    "**Dùng QHĐ tại ngày n của mỗi phòng kế thừa các phòng ngày (n-1) có thể đi đến nó ta được bảng xác suất:**\n",
    "|  | **phòng 1** | **phòng 2** |**phòng 3**|**phòng 4**|\n",
    "| --- | --- | --- | --- | --- |\n",
    "| **Ngày 1** | 1/2 | 1/2 | 0 | 0 |\n",
    "| **Ngày 2** | 3/8 | 3/8 | 1/8 | 1/8 |\n",
    "| **Ngày 3** |  |  | 17/96 | 17/96 |\n",
    "\n",
    "**Theo đề chuột không ở một phòng quá 3 ngày.**\n",
    "* Ngày 3 phòng 1 đã có TH chuột ở phòng 1 được 3 ngày trước đó nên có xác suất là: $(3/8 - {(1/2)}^2)* 1/2 + 3/8* 1/4 = 5/32 $ (Ta kế thừa đi đến phòng 1 ngày 3 từ phòng 1, 2 ngày 2 có trừ xs ở phòng 1 3 ngày liền)\n",
    "* Ngày 3 phòng 2 có xác suất là: $1 - 5/32 - (17/96)* 2$ = 47/96 (Vì tổng xs các phòng trong 1 ngày là 1)\n",
    "\n",
    "|  | **phòng 1** | **phòng 2** |**phòng 3**|**phòng 4**|\n",
    "| --- | --- | --- | --- | --- |\n",
    "| **Ngày 3** | 5/32 | 47/96 | 17/96 | 17/96 |\n",
    "* Ngày 4 phòng 1 có xác suất là: $(5/32)* 1/2 + (47/96 - 1/2* {(1/4)}^2)* 1/4 + (1/2* {(1/4)}^2)* 1/3 = 13/64 $ (TH chuột ở phòng 2 3 ngày liền thì xs qua phòng 1 là 1/3, TH không ở liền 3 ngày thì xs nhân 1/4)\n",
    "* Ngày 4 phòng 3, 4 có cùng xác suất là: $ 17/96* 2/3 + (47/96 - 1/2* {(1/4)}^2)* 1/4 + (1/2* {(1/4)}^2)* 1/3 = 35/144 $ (TH chuột ở phòng 2 3 ngày liền thì xs qua phòng 1 là 1/3, TH không ở liền 3 ngày thì xs nhân 1/4)\n",
    "* Ngày 4 phòng 2 có xác suất là: $1 - 13/64 - (35/144)* 2 = 179/576$ (Vì tổng xs các phòng trong 1 ngày là 1)\n",
    "\n",
    "|  | **phòng 1** | **phòng 2** |**phòng 3**|**phòng 4**|\n",
    "| --- | --- | --- | --- | --- |\n",
    "| **Ngày 4** | 13/64 | 179/576 | 35/144 | 35/144 |\n",
    "* Ngày 5 phòng 1 có xác suất là: $(13/64 - (1/2* 1/4* {(1/2)}^2))* 1/2 + (179/576 - 1/2* {(1/4)}^3)* 1/4 + (1/2* {(1/4)}^3)*1/3 = 757/4608 $ (Kế thừa phòng 1 ngày 4 không ở 3 ngày liền và 2 TH phòng 2 ngày 4 có hay không ở 3 ngày liền trước đó)\n",
    "\n",
    "|  | **phòng 1** | **phòng 2** |**phòng 3**|**phòng 4**|\n",
    "| --- | --- | --- | --- | --- |\n",
    "| **Ngày 5** | 757/4608 |  |  |  |\n",
    "\n",
    "**Xác suất con chuột vẫn ở Phòng 1 sau đó 5 ngày: 757/4608~ 0.1643**"
   ]
  },
  {
   "cell_type": "code",
   "execution_count": 11,
   "metadata": {},
   "outputs": [
    {
     "name": "stdout",
     "output_type": "stream",
     "text": [
      "0.16441\n"
     ]
    }
   ],
   "source": [
    "# Mô phỏng\n",
    "\n",
    "quantity = [0, 2, 4, 3, 3]\n",
    "index = np.array([[0, 0, 0, 0, 0],\n",
    "                [0, 1, 2, 0, 0],\n",
    "                [0, 1, 2, 3, 4],\n",
    "                [0, 2, 3, 4, 0],\n",
    "                [0, 2, 3, 4, 0]] )\n",
    "\n",
    "quantity2 = [0, 1, 3, 2, 2] # mảng dùng khi có phòng chuột đã ở 3 ngày\n",
    "index2 = np.array([[0, 0, 0, 0, 0],\n",
    "                [0, 2, 0, 0, 0],\n",
    "                [0, 1, 3, 4, 0],\n",
    "                [0, 2, 4, 0, 0],\n",
    "                [0, 2, 3, 0, 0]] )# ma trận dùng khi có phòng chuột đã ở 3 ngày\n",
    "\n",
    "sl = 0\n",
    "n = 100000\n",
    "for tt in range(n):\n",
    "    start = 1 # Phòng chuột ở hiện tại\n",
    "    frequence = 1 # Tầng suất chuột ở phòng hiện tại\n",
    "    last = 1 # Phòng chuột ở trước đó \n",
    "    for _ in range(1, 6):\n",
    "        if frequence < 3: # Khi bình thường\n",
    "            percent = np.random.rand()\n",
    "            for j in range(1, quantity[start] + 1):\n",
    "                if (percent <= j*(1/quantity[start])):\n",
    "                    start = index[start][j]\n",
    "                    break\n",
    "            if start == last:\n",
    "                frequence += 1\n",
    "            else:\n",
    "                frequence = 1\n",
    "                last = start\n",
    "\n",
    "        elif frequence >= 3: # Tại phòng đó chuột đã ở 3 ngày\n",
    "            percent = np.random.rand()\n",
    "            for j in range(1, quantity2[start] + 1):\n",
    "                if (percent <= j*(1/quantity2[start])):\n",
    "                    start = index2[start][j]\n",
    "                    break\n",
    "            frequence = 1\n",
    "            last = start\n",
    "\n",
    "    if start == 1:\n",
    "        sl += 1\n",
    "        \n",
    "print(sl/n)"
   ]
  },
  {
   "attachments": {},
   "cell_type": "markdown",
   "metadata": {},
   "source": [
    "**d/ Tương tự Câu (c), làm lại Câu (b).**"
   ]
  },
  {
   "cell_type": "code",
   "execution_count": 12,
   "metadata": {},
   "outputs": [
    {
     "name": "stdout",
     "output_type": "stream",
     "text": [
      "0.154 0.3334 0.2608 0.2518\n"
     ]
    }
   ],
   "source": [
    "# Mô phỏng\n",
    "quantity = [0, 2, 4, 3, 3]\n",
    "index = np.array([[0, 0, 0, 0, 0],\n",
    "                [0, 1, 2, 0, 0],\n",
    "                [0, 1, 2, 3, 4],\n",
    "                [0, 2, 3, 4, 0],\n",
    "                [0, 2, 3, 4, 0]] )\n",
    "quantity2 = [0, 1, 3, 2, 2]\n",
    "index2 = np.array([[0, 0, 0, 0, 0],\n",
    "                [0, 2, 0, 0, 0],\n",
    "                [0, 1, 3, 4, 0],\n",
    "                [0, 2, 4, 0, 0],\n",
    "                [0, 2, 3, 0, 0]] )\n",
    "\n",
    "sl = np.array([0, 0, 0, 0, 0]) # Mảng để lưu số lượng chuột kết thúc ở phòng thứ i \n",
    "n = 5000\n",
    "for _ in range(n):\n",
    "    start = rd.randint(1, 4) # random phòng bắt đầu\n",
    "    frequence = 1\n",
    "    last = start \n",
    "    day = rd.randint(100, 200)\n",
    "    for _ in range(day):\n",
    "        percent = randpercent()\n",
    "        if frequence < 3: # Khi bình thường\n",
    "            for j in range(1, quantity[start]+1):\n",
    "                if (percent <= j*(1/quantity[start])):\n",
    "                    start = index[start][j]\n",
    "                    break\n",
    "            if start == last:\n",
    "                frequence += 1\n",
    "            else:\n",
    "                frequence = 1\n",
    "                last = start\n",
    "\n",
    "        elif frequence >= 3:# Tại phòng đó chuột đã ở 3 ngày\n",
    "            for j in range(1, quantity2[start]+1):\n",
    "                if (percent <= j*(1/quantity2[start])):\n",
    "                    start = index2[start][j]\n",
    "                    break\n",
    "            frequence = 1\n",
    "            last = start\n",
    "\n",
    "    sl[start] = plus_one(sl[start])\n",
    "\n",
    "print(sl[1]/n, sl[2]/n, sl[3]/n, sl[4]/n)"
   ]
  },
  {
   "attachments": {},
   "cell_type": "markdown",
   "metadata": {},
   "source": [
    "# Câu 3"
   ]
  },
  {
   "attachments": {},
   "cell_type": "markdown",
   "metadata": {},
   "source": [
    "**a/ Tính xác suất xe rời trạm 2 mà vẫn không có khách.**"
   ]
  },
  {
   "cell_type": "code",
   "execution_count": 13,
   "metadata": {},
   "outputs": [],
   "source": [
    "# import thư viện cần thiết\n",
    "import numpy as np\n",
    "import random as rd"
   ]
  },
  {
   "cell_type": "code",
   "execution_count": 14,
   "metadata": {},
   "outputs": [],
   "source": [
    "def randpercent():  # random phần trăm\n",
    "    rand = rd.uniform(0, 1)\n",
    "    return rand"
   ]
  },
  {
   "attachments": {},
   "cell_type": "markdown",
   "metadata": {},
   "source": [
    "**TH: Không có khách lên ở trạm 1 (Không có khách lên hay xuống ở trạm 2):**\n",
    "* Xác suất: 0.5*0.5 = 0.25 *(1)*\n",
    "\n",
    "**TH: Có 1 khách lên ở trạm 1 (Có 1 khách xuống và không có khách lên ở trạm 2):**\n",
    "* Xác suất: 0.4*0.2 *0.5 = 0.04  *(2)*\n",
    "\n",
    "**TH: Có 2 khách lên ở trạm 1 (Có 2 khách xuống và không có khách lên ở trạm 2):**\n",
    "* Xác suất: 0.1*${0.2}^2$*0.5 = 0.002 *(3)*\n",
    "\n",
    "**Xác suất xe rời trạm 2 không có khách:**\n",
    "* (1) + (2) + (3) = 0.25 + 0.04 + 0.002 = 0.292"
   ]
  },
  {
   "cell_type": "code",
   "execution_count": 15,
   "metadata": {},
   "outputs": [
    {
     "name": "stdout",
     "output_type": "stream",
     "text": [
      "0.29245\n"
     ]
    }
   ],
   "source": [
    "# Mô phỏng\n",
    "up = np.array([0.1, 0.5, 1]) # Xác suất người lên xe \n",
    "quantity_up = np.array([2, 1, 0]) # số lượng người lên xe ứng với xác suất\n",
    "\n",
    "def process(n, station):\n",
    "    sl = 0\n",
    "    for _ in range(n):\n",
    "        passenger = 0 # số lượng người trên xe \n",
    "        for i in range(1,station+1):\n",
    "            #get off the bus\n",
    "            tmp_pas_bel = 0 # sl người xuống \n",
    "            for _ in range(passenger):\n",
    "                percent = randpercent()\n",
    "                if percent < 0.2:\n",
    "                    tmp_pas_bel += 1\n",
    "            passenger -= tmp_pas_bel\n",
    "\n",
    "            # get on the bus\n",
    "            percent = randpercent()\n",
    "            for i in range(3): \n",
    "                if percent <= up[i]:\n",
    "                    passenger += quantity_up[i]\n",
    "                    break\n",
    "        if passenger <= 0 : # Không có khách \n",
    "            sl += 1\n",
    "    return sl\n",
    "\n",
    "n = 100000\n",
    "station = 2 # số lượng trạm dừng\n",
    "print(process(n, station)/n)\n",
    "# process(n, station)"
   ]
  },
  {
   "attachments": {},
   "cell_type": "markdown",
   "metadata": {},
   "source": [
    "**b/ Tính xác suất xe rời trạm 3 mà vẫn không có khách.**"
   ]
  },
  {
   "attachments": {},
   "cell_type": "markdown",
   "metadata": {},
   "source": [
    "**TH: Xe rời trạm 2 không có khách (kế thừa câu a):**\n",
    "* Xác suất: 0.292\n",
    "* $\\to$ TH này xe rời trạm 3 không có khách là: 0.292*0.5 = 0.146 *(1)*\n",
    "\n",
    "**TH: Xe rời trạm 2 có 1 khách:**\n",
    "* 0 khách lên trạm 1, 0 khách xuống trạm 2, 1 khách lên trạm 2 $\\to$ có xác suất: 0.5*0.4 = 0.2\n",
    "* 1 khách lên trạm 1, 0 khách xuống trạm 2, 0 khách lên trạm 2 $\\to$ có xác suất: 0.4* 0.8 *0.5 = 0.16\n",
    "* 1 khách lên trạm 1, 1 khách xuống trạm 2, 1 khách lên trạm 2 $\\to$ có xác suất: 0.4* 0.2* 0.4 = 0.032 \n",
    "* 2 khách lên trạm 1, 1 khách xuống trạm 2, 0 khách lên trạm 2 $\\to$ có xác suất: (0.1* 0.2* 0.8* 0.5)* 2 = 0.016\n",
    "* 2 khách lên trạm 1, 2 khách xuống trạm 2, 1 khách lên trạm 2 $\\to$ có xác suất: 0.1* 0.2* 0.2* 0.4 = 0.0016\n",
    "* $\\to$ TH này xe rời trạm 3 không có khách là: (0.2 + 0.16 + 0.032 + 0.016 + 0.0016)* 0.2* 0.5 = 0.04096 *(2)*\n",
    "\n",
    "**TH: Xe rời trạm 2 có 2 khách:**\n",
    "* 0 khách lên trạm 1, 0 khách xuống trạm 2, 2 khách lên trạm 2 $\\to$ có xác suất: 0.5*0.1 = 0.05\n",
    "* 1 khách lên trạm 1, 1 khách xuống trạm 2, 2 khách lên trạm 2 $\\to$ có xác suất: 0.4* 0.2* 0.1 = 0.008\n",
    "* 1 khách lên trạm 1, 0 khách xuống trạm 2, 1 khách lên trạm 2 $\\to$ có xác suất: 0.4* 0.8* 0.4 = 0.128\n",
    "* 2 khách lên trạm 1, 0 khách xuống trạm 2, 0 khách lên trạm 2 $\\to$ có xác suất: 0.1* 0.8* 0.8* 0.5 = 0.032\n",
    "* 2 khách lên trạm 1, 1 khách xuống trạm 2, 1 khách lên trạm 2 $\\to$ có xác suất: (0.1* 0.2* 0.8* 0.4)* 2 = 0.0128\n",
    "* 2 khách lên trạm 1, 2 khách xuống trạm 2, 2 khách lên trạm 2 $\\to$ có xác suất: 0.1* 0.2* 0.2* 0.1 = 0.0004\n",
    "* $\\to$ TH này xe rời trạm 3 không có khách là: (0.05 + 0.008 + 0.128 + 0.032 + 0.0128 + 0.0004)* 0.2* 0.2* 0.5 = 0.004624 *(3)*\n",
    "\n",
    "**TH: Xe rời trạm 2 có 3 khách:**\n",
    "* 1 khách lên trạm 1, 0 khách xuống trạm 2, 2 khách lên trạm 2 $\\to$ có xác suất: 0.4* 0.8* 0.1 = 0.032\n",
    "* 2 khách lên trạm 1, 0 khách xuống trạm 2, 1 khách lên trạm 2 $\\to$ có xác suất: 0.1* 0.8* 0.8* 0.4 = 0.0256\n",
    "* 2 khách lên trạm 1, 1 khách xuống trạm 2, 2 khách lên trạm 2 $\\to$ có xác suất: (0.1* 0.2* 0.8* 0.1)* 2 = 0.0032\n",
    "* $\\to$ TH này xe rời trạm 3 không có khách là: (0.032 + 0.0256 + 0.0032)* 0.2* 0.2* 0.2* 0.5 = 0.0002432 *(4)*\n",
    "\n",
    "**TH: Xe rời trạm 2 có 4 khách:**\n",
    "* 2 khách lên trạm 1, 0 khách xuống trạm 2, 2 khách lên trạm 2 $\\to$ có xác suất: 0.1* 0.8* 0.8* 0.1 = 0.0064\n",
    "* $\\to$ TH này xe rời trạm 3 không có khách là: 0.0064* 0.2* 0.2* 0.2* 0.2* 0.5 = 5.12.$10^{-6}$ *(5)*\n",
    "\n",
    "**Xác suất xe rời trạm 3 mà vẫn không có khách:**\n",
    "* (1) + (2) + (3) + (4) + (5) = 0.146 + 0.04096 + 0.004624 + 0.0002432 + 5.12.$10^{-6}$ = 0.19183232"
   ]
  },
  {
   "cell_type": "code",
   "execution_count": 16,
   "metadata": {},
   "outputs": [
    {
     "name": "stdout",
     "output_type": "stream",
     "text": [
      "0.19185\n"
     ]
    }
   ],
   "source": [
    "# Mô phỏng\n",
    "n = 100000\n",
    "station = 3 # số lượng trạm dừng\n",
    "print(process(n, station)/n)"
   ]
  },
  {
   "attachments": {},
   "cell_type": "markdown",
   "metadata": {},
   "source": [
    "**c/ Tính xác suất xe rời trạm 5 với ít nhất 5 khách trên xe.**"
   ]
  },
  {
   "cell_type": "code",
   "execution_count": 17,
   "metadata": {},
   "outputs": [
    {
     "name": "stdout",
     "output_type": "stream",
     "text": [
      "0.03482\n"
     ]
    }
   ],
   "source": [
    "# Mô phỏng\n",
    "def process_c(n, station, guest):\n",
    "    sl = 0\n",
    "    for _ in range(n):\n",
    "        passenger = 0 # số lượng người trên xe \n",
    "        for i in range(1,station+1):\n",
    "            #get off the bus\n",
    "            tmp_pas_bel = 0 # sl người xuống \n",
    "            for _ in range(passenger):\n",
    "                percent = randpercent()\n",
    "                if percent < 0.2:\n",
    "                    tmp_pas_bel += 1\n",
    "            passenger -= tmp_pas_bel\n",
    "\n",
    "            # get on the bus\n",
    "            percent = randpercent()\n",
    "            for i in range(3): \n",
    "                if percent <= up[i]:\n",
    "                    passenger += quantity_up[i]\n",
    "                    break\n",
    "        if passenger >= guest : # ít nhất lượng guest khách\n",
    "            sl += 1\n",
    "    return sl\n",
    "\n",
    "n = 100000\n",
    "station = 5 # số lượng trạm dừng\n",
    "print(process_c(n, station, 5)/n)"
   ]
  },
  {
   "attachments": {},
   "cell_type": "markdown",
   "metadata": {},
   "source": [
    "**d/ An xuống xe ở trạm 2, sau đó An thấy xe rời trạm 2 mà không có khách. Tính xác suất xe chỉ chở mình An khi xe rời trạm 1**"
   ]
  },
  {
   "attachments": {},
   "cell_type": "markdown",
   "metadata": {},
   "source": [
    "**Theo đề bài ta thấy rằng tại trạm 1 có 2 TH, 1 là mình An lên xe, 2 là An và 1 người khác sẽ lên.**\n",
    "* TH 1: Mình An lên xe là p1.\n",
    "* TH 2: An và 1 người khác sẽ lên là p2.\n",
    "* Ta có p1 + p2 = 1, p1 = 4* p2\n",
    "* Suy ra: p1 = 0.8, p2 = 0.2\n",
    "* Vì dù thế nào khi rời trạm 2 sẽ không còn ai trên xe nên ta chỉ quan tâm ở trạm 1 xác suất mình An lên xe.\n",
    "* Vậy xác suất xe chỉ chở mình An khi xe rời trạm 1 là p1 = 80%.\n"
   ]
  },
  {
   "cell_type": "code",
   "execution_count": 18,
   "metadata": {},
   "outputs": [
    {
     "data": {
      "text/plain": [
       "0.800093"
      ]
     },
     "execution_count": 18,
     "metadata": {},
     "output_type": "execute_result"
    }
   ],
   "source": [
    "# Mô phỏng\n",
    "n = 1000000\n",
    "sl = 0\n",
    "for i in range(n):\n",
    "    percent = randpercent()\n",
    "    if percent < 0.8:\n",
    "        sl += 1\n",
    "sl/n"
   ]
  },
  {
   "attachments": {},
   "cell_type": "markdown",
   "metadata": {},
   "source": [
    "**e/ Tính kì vọng số khách trên xe khi xe rời trạm 2.**"
   ]
  },
  {
   "cell_type": "code",
   "execution_count": 19,
   "metadata": {},
   "outputs": [],
   "source": [
    "def expectation(p): # tính kì vọng\n",
    "    E = 0.0\n",
    "    for i in range(len(p)):\n",
    "        E += i*p[i]/n\n",
    "    return E"
   ]
  },
  {
   "attachments": {},
   "cell_type": "markdown",
   "metadata": {},
   "source": [
    "**Gọi biến ngẫu nhiên X là số khách trên xe khi rời trạm 2. X nhận các giá trị là: 0, 1, 2, 3, 4 ứng với xác suất $p_0, p_1, p_2, p_3, p_4$.**\n",
    "\n",
    "**Như đã tính ở câu b ta được:** \n",
    "* $p_0$ = 0.292\n",
    "* $p_1$ = 0.2 + 0.16 + 0.032 + 0.016 + 0.0016 = 0.4096\n",
    "* $p_2$ = 0.05 + 0.008 + 0.128 + 0.032 + 0.0128 + 0.0004 = 0.2312\n",
    "* $p_3$ = 0.032 + 0.0256 + 0.0032 = 0.0608\n",
    "* $p_4$ = 0.0064\n",
    "\n",
    "**Kì vọng:**\n",
    "* $E(X) = p_0*x_0 + p_1*x_1 + p_2*x_2 + p_3*x_3 + p_4*x_4$ = 0.292* 0 + 0.4096* 1 + 0.2312* 2 + 0.0608* 3 + 0.0064*4 = 1.08"
   ]
  },
  {
   "cell_type": "code",
   "execution_count": 20,
   "metadata": {},
   "outputs": [
    {
     "name": "stdout",
     "output_type": "stream",
     "text": [
      "1.0785200000000001\n"
     ]
    }
   ],
   "source": [
    "# Mô phỏng\n",
    "p = np.array([0, 0, 0, 0, 0]) # lưu xác suất từng giá trị Xi\n",
    "\n",
    "def process_pro(n, station):\n",
    "    for _ in range(n):\n",
    "        passenger = 0\n",
    "        for i in range(1,station+1):\n",
    "            #get off the bus\n",
    "            tmp_pas_bel = 0\n",
    "            for _ in range(passenger):\n",
    "                percent = randpercent()\n",
    "                if percent < 0.2:\n",
    "                    tmp_pas_bel += 1\n",
    "            passenger -= tmp_pas_bel\n",
    "\n",
    "            # get on the bus\n",
    "            percent = randpercent()\n",
    "            for i in range(3): \n",
    "                if percent <= up[i]:\n",
    "                    passenger += quantity_up[i]\n",
    "                    break\n",
    "        p[passenger] += 1\n",
    "\n",
    "    return p\n",
    "\n",
    "n = 100000\n",
    "sl = 0\n",
    "station = 2\n",
    "p = process_pro(n, station)\n",
    "print(expectation(p))"
   ]
  },
  {
   "attachments": {},
   "cell_type": "markdown",
   "metadata": {},
   "source": [
    "**f/ Tính kì vọng số khách trên xe khi xe rời trạm 3.**"
   ]
  },
  {
   "attachments": {},
   "cell_type": "markdown",
   "metadata": {},
   "source": [
    "**Gọi biến ngẫu nhiên X là số khách trên xe khi rời trạm 3. X nhận các giá trị là: 0, 1, 2, 3, 4, 5, 6 ứng với xác suất $p_0, p_1, p_2, p_3, p_4, p_5, p_6$.**\n",
    "\n",
    "**Kế thừa ở câu b**\n",
    "\n",
    "**Khi rời trạm 2 không có khách với xác suất 0.292** \n",
    "* Xác suất rời trạm 3 có 0 người: 0.292*0.5 = 0.146\n",
    "* Xác suất rời trạm 3 có 1 người: 0.292*0.4 = 0.1168\n",
    "* Xác suất rời trạm 3 có 2 người: 0.292*0.1 = 0.0292\n",
    "\n",
    "**Khi rời trạm 2 có 1 khách với xác suất 0.4096**\n",
    "* Xác suất rời trạm 3 có 0 người: 0.4016* 0.2* 0.5 = 0.04096\n",
    "* Xác suất rời trạm 3 có 1 người: (0.4016* 0.8* 0.5) + (0.4016* 0.2* 0.4) = 0.196608\n",
    "* Xác suất rời trạm 3 có 2 người: (0.4016* 0.2* 0.1) + (0.4016* 0.8* 0.4) = 0.139264\n",
    "* Xác suất rời trạm 3 có 3 người: (0.4016* 0.8* 0.1) = 0.032768\n",
    "\n",
    "**Khi rời trạm 2 có 2 khách với xác suất 0.2312**\n",
    "* Xác suất rời trạm 3 có 0 người: 0.2312* 0.2* 0.2* 0.5 = 0.004624\n",
    "* Xác suất rời trạm 3 có 1 người: (0.2312* 0.8* 0.2* 0.5)* 2 + (0.2312* 0.2* 0.2* 0.4) = 0.0406912\n",
    "* Xác suất rời trạm 3 có 2 người: (0.2312* 0.8* 0.8* 0.5) + (0.2312* 0.8* 0.2* 0.4)* 2 + (0.2312* 0.2* 0.2* 0.1) = 0.1045024\n",
    "* Xác suất rời trạm 3 có 3 người: (0.2312* 0.8* 0.8* 0.4) + (0.2312* 0.8* 0.2* 0.1)* 2 = 0.0665856\n",
    "* Xác suất rời trạm 3 có 4 người: (0.2312* 0.8* 0.8* 0.1) = 0.0147968\n",
    "\n",
    "**Khi rời trạm 2 có 3 khách với xác suất 0.0608**\n",
    "* Xác suất rời trạm 3 có 0 người: (0.0608* 0.2* 0.2* 0.2* 0.5) = 0.0002432\n",
    "* Xác suất rời trạm 3 có 1 người: (0.0608* 0.8* 0.2* 0.2* 0.5)* $C_{3}^1$ + (0.0608* 0.2* 0.2* 0.2* 0.4) = 0.00311296\n",
    "* Xác suất rời trạm 3 có 2 người: (0.0608* 0.8* 0.8* 0.2* 0.5)* $C_{3}^1$ + (0.0608* 0.8* 0.2* 0.2* 0.4)* $C_{3}^1$ + (0.0608* 0.2* 0.2* 0.2* 0.1) = 0.01405696\n",
    "* Xác suất rời trạm 3 có 3 người: (0.0608* 0.8* 0.8* 0.8* 0.5) + (0.0608* 0.8* 0.8* 0.2* 0.4)* $C_{3}^1$ + (0.0608* 0.8* 0.2* 0.2* 0.1)* $C_{3}^1$ = 0.02548736\n",
    "* Xác suất rời trạm 3 có 4 người: (0.0608* 0.8* 0.8* 0.8* 0.4) + (0.0608* 0.8* 0.8* 0.2* 0.1)* $C_{3}^1$ = 0.01478656\n",
    "* Xác suất rời trạm 3 có 5 người: (0.0608* 0.8* 0.8* 0.8* 0.1) = 0.00311296\n",
    "\n",
    "**Khi rời trạm 2 có 4 khách với xác suất 0.0064**\n",
    "* Xác suất rời trạm 3 có 0 người: (0.0064* 0.2* 0.2* 0.2* 0.2* 0.5) = 0.00000512\n",
    "* Xác suất rời trạm 3 có 1 người: (0.0064* 0.8* 0.2* 0.2* 0.2* 0.5)* $C_{4}^1$ + (0.0064* 0.2* 0.2* 0.2* 0.2* 0.4) = 0.000086016\n",
    "* Xác suất rời trạm 3 có 2 người: (0.0064* 0.8* 0.8* 0.2* 0.2* 0.5)* $C_{4}^2$ + (0.0064* 0.8* 0.2* 0.2* 0.2* 0.4)* $C_{4}^1$ + (0.0064* 0.2* 0.2* 0.2* 0.2* 0.1) = 0.00055808\n",
    "* Xác suất rời trạm 3 có 3 người: (0.0064* 0.8* 0.8* 0.8* 0.2* 0.5)* $C_{4}^1$ + (0.0064* 0.8* 0.8* 0.2* 0.2* 0.4)* $C_{4}^2$ + (0.0064* 0.8* 0.2* 0.2* 0.2* 0.1)* $C_{4}^1$ = 0.00172032\n",
    "* Xác suất rời trạm 3 có 4 người: (0.0064* 0.8* 0.8* 0.8* 0.8* 0.5) + (0.0064* 0.8* 0.8* 0.8* 0.2* 0.4)* $C_{4}^1$ + (0.0064* 0.8* 0.8* 0.2* 0.2* 0.1)* $C_{4}^2$ = 0.0024576\n",
    "* Xác suất rời trạm 3 có 5 người: (0.0064* 0.8* 0.8* 0.8* 0.8* 0.4) + (0.0064* 0.8* 0.8* 0.8* 0.2* 0.1)* $C_{4}^1$ = 0.00131072\n",
    "* Xác suất rời trạm 3 có 6 người: (0.0064* 0.8* 0.8* 0.8* 0.8* 0.1) = 0.000262144\n",
    "\n",
    "**Ta được xác suất:**\n",
    "* $p_0$ = 0.146 + 0.04096 + 0.004624 + 0.0002432 + 0.00000512 = 0.19183232\n",
    "* $p_1$ = 0.1168 + 0.196608 + 0.0406912 + 0.00311296 + 0.000086016 = 0.357298176\n",
    "* $p_2$ = 0.0292 + 0.139264 + 0.1045024 + 0.01405696 + 0.00055808 = 0.28758144\n",
    "* $p_3$ = 0.032768 + 0.0665856 + 0.02548736 + 0.00172032 = 0.12656128\n",
    "* $p_4$ = 0.0147968 + 0.01478656 + 0.0024576 = 0.03204096\n",
    "* $p_5$ = 0.00311296 + 0.00131072 = 0.00442368\n",
    "* $p_6$ = 0.000262144 = 0.000262144\n",
    "\n",
    "**Kì vọng:**\n",
    "* $E(X) = p_0*x_0 + p_1*x_1 + p_2*x_2 + p_3*x_3 + p_4*x_4$ = 0.19183232* 0 + 0.357298176* 1 + 0.28758144* 2 +0.12656128* 3 + 0.03204096* 4 + 0.00442368* 5 + 0.000262144*6 \n",
    "\n",
    "= 1.464"
   ]
  },
  {
   "cell_type": "code",
   "execution_count": 21,
   "metadata": {},
   "outputs": [
    {
     "name": "stdout",
     "output_type": "stream",
     "text": [
      "1.46238\n"
     ]
    }
   ],
   "source": [
    "p = np.array([0, 0, 0, 0, 0, 0, 0]) # lưu xác suất từng giá trị Xi\n",
    "\n",
    "n = 100000\n",
    "sl = 0\n",
    "station = 3\n",
    "\n",
    "p = process_pro(n, station)\n",
    "print(expectation(p))"
   ]
  },
  {
   "attachments": {},
   "cell_type": "markdown",
   "metadata": {},
   "source": [
    "**g/ Giả sử xe chứa tối đa 5 khách, nếu lượng khách lên nhiều thì xe chỉ cho phép đủ người lên. Tính xác suất xe rời trạm 5 với đủ khách.**"
   ]
  },
  {
   "attachments": {},
   "cell_type": "markdown",
   "metadata": {},
   "source": [
    "**Tương tự như câu b và câu f ta thấy được:**\n",
    "* Tại trạm n có 0 khách kế thừa trạm n-1 cố 0 -> 5 khách\n",
    "* Tại trạm n có 1 khách kế thừa trạm n-1 cố 0 -> 5 khách\n",
    "* Tại trạm n có 2 khách kế thừa trạm n-1 cố 0 -> 5 khách\n",
    "* Tại trạm n có 3 khách kế thừa trạm n-1 cố 1 -> 5 khách\n",
    "* Tại trạm n có 4 khách kế thừa trạm n-1 cố 2 -> 5 khách\n",
    "* Tại trạm n có 5 khách kế thừa trạm n-1 cố 3 -> 5 khách\n",
    "\n",
    "**Ta lập được bảng xác suất sau:**\n",
    "|  | **Trạm 1** | **Trạm 2** | **Trạm 3** | **Trạm 4** | **Trạm 5** |\n",
    "| --- | --- | --- | --- | --- | --- |\n",
    "| 0 Khách | 0.5 | 0.292 | 0.1918 | 0.1376 | 0.1064 |\n",
    "| 1 Khách | 0.4 | 0.4096 | 0.3573 | 0.3057 | 0.2651 |\n",
    "| 2 Khách | 0.1 | 0.2312 | 0.2876 | 0.3027 | 0.3006 |\n",
    "| 3 Khách | 0 | 0.0608 | 0.1266 | 0.1737 | 0.2033 |\n",
    "| 4 Khách | 0 | 0.0064 | 0.0320 | 0.0629 | 0.0908 |\n",
    "| 5 Khách | 0 | 0 | 0.0044 | 0.0169 | 0.0337 |\n",
    "\n",
    "**Vậy xác suất xe rời trạm 5 với đủ khách: ô (5 khách, trạm 5) = 0.0337**"
   ]
  },
  {
   "cell_type": "code",
   "execution_count": 22,
   "metadata": {},
   "outputs": [
    {
     "name": "stdout",
     "output_type": "stream",
     "text": [
      "0.03387\n"
     ]
    }
   ],
   "source": [
    "# Mô phỏng\n",
    "p = np.array([0, 0, 0, 0, 0, 0])\n",
    "\n",
    "def process_g(n, station):\n",
    "    for _ in range(n):\n",
    "        passenger = 0\n",
    "        for i in range(1,station+1):\n",
    "            #get off the bus\n",
    "            tmp_pas_bel = 0\n",
    "            for _ in range(passenger):\n",
    "                percent = randpercent()\n",
    "                if percent < 0.2:\n",
    "                    tmp_pas_bel += 1\n",
    "            passenger -= tmp_pas_bel\n",
    "\n",
    "            # get on the bus\n",
    "            percent = randpercent()\n",
    "            for i in range(3): \n",
    "                if percent <= up[i]:\n",
    "                    passenger += quantity_up[i]\n",
    "                    if passenger > 5:\n",
    "                        passenger = 5\n",
    "                    break\n",
    "        p[passenger] += 1\n",
    "    return p\n",
    "\n",
    "n = 100000\n",
    "station = 5\n",
    "p = process_g(n, station)\n",
    "print(p[5]/n)"
   ]
  },
  {
   "attachments": {},
   "cell_type": "markdown",
   "metadata": {},
   "source": [
    "**h/ Tương tự Câu (g), tính kì vọng số khách trên xe khi xe rời trạm 5.**"
   ]
  },
  {
   "attachments": {},
   "cell_type": "markdown",
   "metadata": {},
   "source": [
    "**Gọi biến ngẫu nhiên X là số khách trên xe khi rời trạm 5. X nhận các giá trị là: 0, 1, 2, 3, 4, 5 ứng với xác suất $p_0, p_1, p_2, p_3, p_4, p_5$.**\n",
    "\n",
    "**Như đã tính ở câu g ta được:** \n",
    "* $p_0$ = 0.1064\n",
    "* $p_1$ = 0.2651\n",
    "* $p_2$ = 0.3006\n",
    "* $p_3$ = 0.2033\n",
    "* $p_4$ = 0.0908\n",
    "* $p_5$ = 0.0337\n",
    "\n",
    "**Kì vọng:**\n",
    "* $E(X) = p_0*x_0 + p_1*x_1 + p_2*x_2 + p_3*x_3 + p_4*x_4 + p_5*x_5$ = 0.1064* 0 + 0.2651* 1 + 0.3006* 2 + 0.2033* 3 + 0.0908* 4 + 0.0337* 5 = 2.0079"
   ]
  },
  {
   "cell_type": "code",
   "execution_count": 23,
   "metadata": {},
   "outputs": [
    {
     "data": {
      "text/plain": [
       "2.01195"
      ]
     },
     "execution_count": 23,
     "metadata": {},
     "output_type": "execute_result"
    }
   ],
   "source": [
    "# Mô phỏng\n",
    "p = np.array([0, 0, 0, 0, 0, 0])\n",
    "\n",
    "n = 100000\n",
    "station = 5\n",
    "p = process_g(n, station)\n",
    "expectation(p)"
   ]
  },
  {
   "cell_type": "code",
   "execution_count": null,
   "metadata": {},
   "outputs": [],
   "source": []
  }
 ],
 "metadata": {
  "kernelspec": {
   "display_name": "Python 3",
   "language": "python",
   "name": "python3"
  },
  "language_info": {
   "codemirror_mode": {
    "name": "ipython",
    "version": 3
   },
   "file_extension": ".py",
   "mimetype": "text/x-python",
   "name": "python",
   "nbconvert_exporter": "python",
   "pygments_lexer": "ipython3",
   "version": "3.10.7"
  },
  "orig_nbformat": 4,
  "vscode": {
   "interpreter": {
    "hash": "27f6fea6f47ae512550f0b8facdbd035a93e1dd89633f7bf2dd00a2502c71d0d"
   }
  }
 },
 "nbformat": 4,
 "nbformat_minor": 2
}
